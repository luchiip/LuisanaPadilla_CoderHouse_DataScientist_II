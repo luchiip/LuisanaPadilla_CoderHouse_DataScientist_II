{
  "nbformat": 4,
  "nbformat_minor": 0,
  "metadata": {
    "colab": {
      "provenance": []
    },
    "kernelspec": {
      "name": "python3",
      "display_name": "Python 3"
    },
    "language_info": {
      "name": "python"
    }
  },
  "cells": [
    {
      "cell_type": "markdown",
      "source": [
        "**Lectura de Datos**"
      ],
      "metadata": {
        "id": "QXYwP_yUy1MQ"
      }
    },
    {
      "cell_type": "code",
      "execution_count": null,
      "metadata": {
        "id": "gipr0Y1-IFib"
      },
      "outputs": [],
      "source": [
        "import numpy as np\n",
        "import pandas as pd\n",
        "import matplotlib.pyplot as plt\n",
        "import matplotlib as mlp\n",
        "import seaborn as sns"
      ]
    },
    {
      "cell_type": "code",
      "source": [
        "from google.colab import drive\n",
        "drive.mount('/content/drive')"
      ],
      "metadata": {
        "id": "MvS4sLqpIKx2"
      },
      "execution_count": null,
      "outputs": []
    },
    {
      "cell_type": "code",
      "source": [
        "archivo_de_paltas = '/content/drive/My Drive/LuisanaPadilla_CODERHOUSE_DataScientist/avocado.csv'\n",
        "archivo_de_propiedades = '/content/drive/My Drive/LuisanaPadilla_CODERHOUSE_DataScientist/bsas_realstate_on_sale_properati_dataset_2020.csv'\n",
        "archivo_de_propiedades_gral = '/content/drive/My Drive/LuisanaPadilla_CODERHOUSE_DataScientist/kc_house_data.csv'"
      ],
      "metadata": {
        "id": "mFLtVKFcIWcq"
      },
      "execution_count": null,
      "outputs": []
    },
    {
      "cell_type": "code",
      "source": [
        "df_paltas = pd.read_csv(archivo_de_paltas)\n",
        "df_propiedades = pd.read_csv(archivo_de_propiedades)\n",
        "df_propiedades_gral = pd.read_csv(archivo_de_propiedades_gral)\n",
        "print(df_propiedades.head())"
      ],
      "metadata": {
        "id": "pehqQcASIbS2"
      },
      "execution_count": null,
      "outputs": []
    },
    {
      "cell_type": "code",
      "source": [
        "df_propiedades.info()"
      ],
      "metadata": {
        "id": "9T_oX4ldIks_"
      },
      "execution_count": null,
      "outputs": []
    },
    {
      "cell_type": "code",
      "source": [
        "df_propiedades['rooms'] = df_propiedades['rooms'].astype(int)\n",
        "df_propiedades['bedrooms'] = df_propiedades['bedrooms'].astype(int)\n",
        "print(df_propiedades.head())"
      ],
      "metadata": {
        "id": "GzVNANXOIpPt"
      },
      "execution_count": null,
      "outputs": []
    },
    {
      "cell_type": "markdown",
      "source": [
        "**Data Wrangling: Limpieza y transformación de datos**"
      ],
      "metadata": {
        "id": "kIzfFDOUzEX-"
      }
    },
    {
      "cell_type": "code",
      "source": [
        "avg_surface_by_rooms = df_propiedades.groupby('rooms')['surface_total'].mean()\n",
        "def llenar_surface_total(row):\n",
        "    if pd.isnull(row['surface_total']):\n",
        "        return avg_surface_by_rooms[row['rooms']]\n",
        "    else:\n",
        "        return row['surface_total']\n",
        "\n",
        "\n",
        "df_propiedades['surface_total'] = df_propiedades.apply(llenar_surface_total, axis=1)\n",
        "\n",
        "avg_surfaceC_by_rooms = df_propiedades.groupby('rooms')['surface_covered'].mean()\n",
        "def llenar_surface_covered(row):\n",
        "    if pd.isnull(row['surface_covered']):\n",
        "        return avg_surfaceC_by_rooms[row['rooms']]\n",
        "    else:\n",
        "        return row['surface_covered']\n",
        "df_propiedades['surface_covered'] = df_propiedades.apply(llenar_surface_covered, axis=1)\n",
        "\n",
        "avg_bathrooms_by_rooms = df_propiedades.groupby('rooms')['bathrooms'].mean()\n",
        "def llenar_bathroom(row):\n",
        "    if pd.isnull(row['bathrooms']):\n",
        "        return avg_bathrooms_by_rooms[row['rooms']]\n",
        "    else:\n",
        "        return row['bathrooms']\n",
        "df_propiedades['bathrooms'] = df_propiedades.apply(llenar_bathroom, axis=1)\n",
        "\n",
        "df_propiedades.drop(columns=['lat', 'lon'], inplace=True)\n",
        "\n",
        "df_propiedades = df_propiedades.dropna(subset=['surface_total', 'surface_covered'])\n",
        "\n",
        "print(df_propiedades.info())"
      ],
      "metadata": {
        "id": "jeb1kzTDItUc"
      },
      "execution_count": null,
      "outputs": []
    },
    {
      "cell_type": "code",
      "source": [
        "df_propiedades.head()"
      ],
      "metadata": {
        "id": "sTzXCz1_Roug"
      },
      "execution_count": null,
      "outputs": []
    },
    {
      "cell_type": "code",
      "source": [
        "df_propiedades.tail()"
      ],
      "metadata": {
        "id": "V3JLJI6rSD-g"
      },
      "execution_count": null,
      "outputs": []
    },
    {
      "cell_type": "code",
      "source": [],
      "metadata": {
        "id": "ZADfk-U_SpjM"
      },
      "execution_count": null,
      "outputs": []
    },
    {
      "cell_type": "code",
      "source": [
        "df_paltas.info()"
      ],
      "metadata": {
        "id": "Td4HIJMMJNhC"
      },
      "execution_count": null,
      "outputs": []
    },
    {
      "cell_type": "code",
      "source": [
        "df_paltas.head()"
      ],
      "metadata": {
        "id": "rugOyNmyKQ4Q"
      },
      "execution_count": null,
      "outputs": []
    },
    {
      "cell_type": "code",
      "source": [
        "df_paltas.tail()"
      ],
      "metadata": {
        "id": "gTVkxlh7K4XM"
      },
      "execution_count": null,
      "outputs": []
    },
    {
      "cell_type": "code",
      "source": [
        "df_propiedades_gral.info()"
      ],
      "metadata": {
        "id": "9UjJS1gTKGm_"
      },
      "execution_count": null,
      "outputs": []
    },
    {
      "cell_type": "code",
      "source": [
        "df_propiedades_gral.head()"
      ],
      "metadata": {
        "id": "5aRxlLvkLdOH"
      },
      "execution_count": null,
      "outputs": []
    },
    {
      "cell_type": "code",
      "source": [
        "df_propiedades_gral.tail()"
      ],
      "metadata": {
        "id": "XIzSANbDf-W3"
      },
      "execution_count": null,
      "outputs": []
    },
    {
      "cell_type": "code",
      "source": [
        "property_counts = df_propiedades['property_type'].value_counts()\n",
        "print(property_counts)"
      ],
      "metadata": {
        "id": "pE1nVPRrLto4"
      },
      "execution_count": null,
      "outputs": []
    },
    {
      "cell_type": "markdown",
      "source": [
        "**EDA: Análisis Exploratorio de datos**"
      ],
      "metadata": {
        "id": "TnUQj4D3zzs1"
      }
    },
    {
      "cell_type": "code",
      "source": [
        "plt.figure(figsize=(10, 6))\n",
        "property_counts.plot(kind='bar', color='green')\n",
        "plt.title('Cantidad de Propiedades por Tipo de Propiedad')\n",
        "plt.xlabel('Tipo de Propiedad')\n",
        "plt.ylabel('Cantidad de Propiedades')\n",
        "plt.xticks(rotation=45)\n",
        "plt.show()"
      ],
      "metadata": {
        "id": "Ud_A9JuCNIR0"
      },
      "execution_count": null,
      "outputs": []
    },
    {
      "cell_type": "code",
      "source": [
        "df_propiedades['created_on'] = pd.to_datetime(df_propiedades['created_on'])\n",
        "filtered_df = df_propiedades[df_propiedades['property_type'].isin(['Departamento', 'Casa', 'PH'])]\n",
        "grouped_data = filtered_df.groupby(['property_type', pd.Grouper(key='created_on', freq='M')])['price'].mean().unstack(level=0)\n",
        "plt.figure(figsize=(14, 8))\n",
        "for property_type in grouped_data.columns:\n",
        "    plt.plot(grouped_data.index, grouped_data[property_type], marker='o', label=property_type, color='green')\n",
        "    plt.title('Evolución del Precio de Propiedades (Departamento, Casa, PH)')\n",
        "    plt.xlabel('Fecha de Creación')\n",
        "    plt.ylabel('Precio Promedio')\n",
        "    plt.legend(title='Tipo de Propiedad')\n",
        "    plt.grid(True)\n",
        "    plt.gca().xaxis.set_major_formatter(plt.FixedFormatter(grouped_data.index.to_period('M').strftime('%Y-%m')))\n",
        "    plt.xticks(rotation=45)\n",
        "    plt.tight_layout()\n",
        "    plt.show()"
      ],
      "metadata": {
        "id": "Qlx1Q4LiSzsn"
      },
      "execution_count": null,
      "outputs": []
    },
    {
      "cell_type": "code",
      "source": [
        "# prompt: podemos superponer los 3 graficos anteriores en uno solo donde cada línea de tipo de propiedad tiene un color distinto? (preferiblemente tonalidades de verde)\n",
        "\n",
        "colors = {'Departamento': '#7CFC00', 'Casa': '#00FF00', 'PH': '#008000'}\n",
        "\n",
        "plt.figure(figsize=(14, 8))\n",
        "for property_type, color in colors.items():\n",
        "    plt.plot(grouped_data.index, grouped_data[property_type], marker='o', color=color, label=property_type)\n",
        "\n",
        "plt.title('Evolución del Precio de Propiedades (Departamento, Casa, PH)')\n",
        "plt.xlabel('Fecha de Creación')\n",
        "plt.ylabel('Precio Promedio')\n",
        "plt.legend(title='Tipo de Propiedad')\n",
        "plt.gca().xaxis.set_major_formatter(plt.FixedFormatter(grouped_data.index.to_period('M').strftime('%Y-%m')))\n",
        "plt.xticks(rotation=45)\n",
        "plt.grid(True)\n",
        "plt.tight_layout()\n",
        "plt.show()\n"
      ],
      "metadata": {
        "id": "MqKRxUKwYVdx"
      },
      "execution_count": null,
      "outputs": []
    },
    {
      "cell_type": "code",
      "source": [
        "df_paltas['Date'] = pd.to_datetime(df_paltas['Date'])\n",
        "df_promedio = df_paltas.groupby(['type', pd.Grouper(key='Date', freq='M')])['AveragePrice'].mean().reset_index()\n",
        "plt.figure(figsize=(10, 6))\n",
        "colores = ['lightgreen', 'green']\n",
        "for i, (tipo, datos) in enumerate(df_promedio.groupby('type')):\n",
        "    plt.plot(datos['Date'], datos['AveragePrice'], label=tipo, color=colores[i % len(colores)], marker='o')\n",
        "    plt.xlabel('Fecha')\n",
        "    plt.ylabel('Precio Promedio')\n",
        "    plt.title('Evolución del precio promedio de las paltas por tipo')\n",
        "    plt.grid(True)\n",
        "    plt.legend()"
      ],
      "metadata": {
        "id": "GQDLUcz2aXah"
      },
      "execution_count": null,
      "outputs": []
    },
    {
      "cell_type": "code",
      "source": [
        "conteo_paltas_type = df_paltas['type'].value_counts()\n",
        "print(conteo_paltas_type)"
      ],
      "metadata": {
        "id": "M047qzAJoB_B"
      },
      "execution_count": null,
      "outputs": []
    },
    {
      "cell_type": "code",
      "source": [
        "df_paltas['Date'] = pd.to_datetime(df_paltas['Date'])\n",
        "df_promedio = df_paltas.groupby(pd.Grouper(key='Date', freq='M'))['AveragePrice'].mean().reset_index()\n",
        "\n",
        "plt.figure(figsize=(10, 6))\n",
        "plt.plot(df_promedio['Date'], df_promedio['AveragePrice'], label='Promedio General', color='green', marker='o')\n",
        "plt.xlabel('Fecha')\n",
        "plt.ylabel('Precio Promedio')\n",
        "plt.title('Evolución del precio promedio de las paltas')\n",
        "plt.grid(True)\n",
        "plt.legend()\n",
        "plt.show()\n"
      ],
      "metadata": {
        "id": "DI3mskg1pzCY"
      },
      "execution_count": null,
      "outputs": []
    },
    {
      "cell_type": "code",
      "source": [
        "df_paltas['Date'] = pd.to_datetime(df_paltas['Date'])\n",
        "df_promedio_paltas = df_paltas.groupby(pd.Grouper(key='Date', freq='M'))['AveragePrice'].mean().reset_index()\n",
        "\n",
        "df_propiedades['created_on'] = pd.to_datetime(df_propiedades['created_on'])\n",
        "filtered_df = df_propiedades[df_propiedades['property_type'] == 'Departamento']\n",
        "df_promedio_departamentos = filtered_df.groupby(pd.Grouper(key='created_on', freq='M'))['price'].mean().reset_index()\n",
        "\n",
        "fig, ax1 = plt.subplots(figsize=(10, 6))\n",
        "\n",
        "color = 'tab:green'\n",
        "ax1.set_xlabel('Fecha')\n",
        "ax1.set_ylabel('Precio Promedio de Paltas', color=color)\n",
        "ax1.plot(df_promedio_paltas['Date'], df_promedio_paltas['AveragePrice'], color=color, marker='o')\n",
        "ax1.tick_params(axis='y', labelcolor=color)\n",
        "\n",
        "ax2 = ax1.twinx()\n",
        "\n",
        "color = 'tab:blue'\n",
        "ax2.set_ylabel('Precio Promedio de Departamentos', color=color)\n",
        "ax2.plot(df_promedio_departamentos['created_on'], df_promedio_departamentos['price'], color=color, marker='o')\n",
        "ax2.tick_params(axis='y', labelcolor=color)\n",
        "\n",
        "plt.title('Comparación de Precios Promedio: Paltas vs Departamentos')\n",
        "plt.grid(True)\n",
        "plt.show()\n"
      ],
      "metadata": {
        "id": "LQMsgTlZqH2o"
      },
      "execution_count": null,
      "outputs": []
    },
    {
      "cell_type": "markdown",
      "source": [
        "**Preprocesamiento de Datos**"
      ],
      "metadata": {
        "id": "nXJpKLQdjX8R"
      }
    },
    {
      "cell_type": "code",
      "source": [
        "df_paltas=pd.get_dummies(df_paltas, columns=['type'])\n",
        "df_paltas"
      ],
      "metadata": {
        "id": "HpCMp4dAllEY"
      },
      "execution_count": null,
      "outputs": []
    },
    {
      "cell_type": "code",
      "source": [
        "df_propiedades=pd.get_dummies(df_propiedades, columns=['property_type', 'l2', 'l3', 'l1', 'currency', 'operation_type'])\n",
        "df_propiedades"
      ],
      "metadata": {
        "id": "OBQA-Fw5mGE5"
      },
      "execution_count": null,
      "outputs": []
    },
    {
      "cell_type": "code",
      "source": [
        "# Al tener problemas con las fechas, he pedido a IA que me ayude a formatear las columnas de fechas de \"created on\" de la siguiente manera:\n",
        "\n",
        "# Definir una fecha base\n",
        "base_date = pd.to_datetime('2000-01-01')\n",
        "\n",
        "# Calcular el número de días desde la fecha base\n",
        "df_propiedades['days_from_base_created'] = (df_propiedades['created_on'] - base_date).dt.days\n",
        "\n",
        "# Eliminar las columnas originales de fechas si no son necesarias\n",
        "df_propiedades.drop(['start_date', 'end_date', 'created_on'], axis=1, inplace=True)\n",
        "\n",
        "# Imprimir el DataFrame para verificar\n",
        "print(df_propiedades.head())\n"
      ],
      "metadata": {
        "id": "GYDMDlV4u5Jm"
      },
      "execution_count": null,
      "outputs": []
    },
    {
      "cell_type": "markdown",
      "source": [
        "**Feature Selection**"
      ],
      "metadata": {
        "id": "haXaoSRQmD8y"
      }
    },
    {
      "cell_type": "code",
      "source": [
        "X = df_propiedades.drop(['price', 'title', 'description'], axis=1)\n",
        "y = df_propiedades['price']\n"
      ],
      "metadata": {
        "id": "6BcokHRKzL6r"
      },
      "execution_count": null,
      "outputs": []
    },
    {
      "cell_type": "markdown",
      "source": [
        "**Modelo**"
      ],
      "metadata": {
        "id": "BnaqUtW7lU7S"
      }
    },
    {
      "cell_type": "code",
      "source": [
        "from sklearn.model_selection import train_test_split\n",
        "from sklearn.linear_model import LinearRegression\n",
        "X_train, X_test, y_train, y_test = train_test_split(X, y, test_size=0.2, random_state=42)\n",
        "model = LinearRegression()\n",
        "model.fit(X_train, y_train)"
      ],
      "metadata": {
        "id": "NlREKo-OlWTy"
      },
      "execution_count": null,
      "outputs": []
    },
    {
      "cell_type": "code",
      "source": [
        "y_pred = model.predict(X_test)\n",
        "print(y_pred)"
      ],
      "metadata": {
        "id": "LpR8NzcK4dmv"
      },
      "execution_count": null,
      "outputs": []
    },
    {
      "cell_type": "code",
      "source": [
        "mse = mean_squared_error(y_test, y_pred)\n",
        "r2 = r2_score(y_test, y_pred)\n",
        "print(f'Error Cuadrático Medio (MSE): {mse:.2f}')\n",
        "print(f'Coeficiente de Determinación (R^2): {r2:.2f}')"
      ],
      "metadata": {
        "id": "Ex5xnWC-456S"
      },
      "execution_count": null,
      "outputs": []
    }
  ]
}